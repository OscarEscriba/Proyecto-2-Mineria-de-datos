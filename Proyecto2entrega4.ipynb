{
 "cells": [
  {
   "cell_type": "code",
   "execution_count": 1,
   "metadata": {},
   "outputs": [
    {
     "name": "stdout",
     "output_type": "stream",
     "text": [
      "Predicciones de KNN:\n",
      "[147180.  294800.  105380.  155080.  299240.4]\n",
      "✅ Modelo de KNN entrenado y predicciones generadas.\n"
     ]
    }
   ],
   "source": [
    "# Modelo de regresión usando el KNN \n",
    "import pandas as pd\n",
    "import numpy as np\n",
    "from sklearn.model_selection import train_test_split\n",
    "from sklearn.preprocessing import StandardScaler\n",
    "from sklearn.neighbors import KNeighborsRegressor\n",
    "\n",
    "# Cargar datos\n",
    "train_df = pd.read_csv(\"train.csv\")\n",
    "\n",
    "# Seleccionar características más relevantes (según análisis previo)\n",
    "features = ['OverallQual', 'GrLivArea', 'GarageCars', 'GarageArea', 'TotalBsmtSF', \n",
    "            '1stFlrSF', 'FullBath', 'TotRmsAbvGrd', 'YearBuilt', 'YearRemodAdd']\n",
    "X = train_df[features]\n",
    "y = train_df[\"SalePrice\"]\n",
    "\n",
    "# Dividir datos en entrenamiento y prueba (manteniendo la misma división que antes)\n",
    "X_train, X_test, y_train, y_test = train_test_split(X, y, test_size=0.2, random_state=42)\n",
    "\n",
    "# Escalar los datos para mejorar el rendimiento de KNN\n",
    "scaler = StandardScaler()\n",
    "X_train_scaled = scaler.fit_transform(X_train)\n",
    "X_test_scaled = scaler.transform(X_test)\n",
    "\n",
    "# Entrenar modelo KNN con k=5 (valor por defecto)\n",
    "knn = KNeighborsRegressor(n_neighbors=5)\n",
    "knn.fit(X_train_scaled, y_train)\n",
    "\n",
    "# Predicciones\n",
    "y_pred_knn = knn.predict(X_test_scaled)\n",
    "\n",
    "# Imprimir las primeras 5 predicciones\n",
    "print(\"Predicciones de KNN:\")\n",
    "print(y_pred_knn[:5])\n",
    "\n",
    "\n",
    "print(\"✅ Modelo de KNN entrenado y predicciones generadas.\")"
   ]
  },
  {
   "cell_type": "code",
   "execution_count": 2,
   "metadata": {},
   "outputs": [
    {
     "name": "stdout",
     "output_type": "stream",
     "text": [
      "🔹 Evaluación del Modelo KNN:\n",
      "   - MAE: 22111.25\n",
      "   - MSE: 1323992600.72\n",
      "   - RMSE: 36386.71\n",
      "   - R²: 0.8274\n"
     ]
    }
   ],
   "source": [
    "# Evaluación del modelo KNN \n",
    "from sklearn.metrics import mean_absolute_error, mean_squared_error, r2_score\n",
    "\n",
    "# Evaluar el modelo KNN\n",
    "mae_knn = mean_absolute_error(y_test, y_pred_knn)\n",
    "mse_knn = mean_squared_error(y_test, y_pred_knn)\n",
    "rmse_knn = np.sqrt(mse_knn)\n",
    "r2_knn = r2_score(y_test, y_pred_knn)\n",
    "\n",
    "# Imprimir resultados\n",
    "print(f\"🔹 Evaluación del Modelo KNN:\")\n",
    "print(f\"   - MAE: {mae_knn:.2f}\")\n",
    "print(f\"   - MSE: {mse_knn:.2f}\")\n",
    "print(f\"   - RMSE: {rmse_knn:.2f}\")\n",
    "print(f\"   - R²: {r2_knn:.4f}\")"
   ]
  },
  {
   "cell_type": "code",
   "execution_count": 3,
   "metadata": {},
   "outputs": [
    {
     "name": "stdout",
     "output_type": "stream",
     "text": [
      "\n",
      "🔹 Comparación de Modelos:\n",
      "               Modelo           MAE          RMSE        R²\n",
      "3                 KNN  22111.252740  36386.709122  0.827388\n",
      "0    Regresión Lineal  23102.791927  35375.520642  0.820663\n",
      "1  Árbol de Regresión  24843.190000  37743.700000  0.795800\n",
      "2         Naive Bayes   2466.000000   6168.000000  0.616000\n"
     ]
    }
   ],
   "source": [
    "# Cargar métricas anteriores (ingresar valores manualmente después de correr cada modelo)\n",
    "mae_regresion = 23102.791926840524  # Valor de MAE del mejor modelo de regresión lineal\n",
    "rmse_regresion = 35375.520642173404  # Valor de RMSE del mejor modelo de regresión lineal\n",
    "r2_regresion = 0.8206634213329366\n",
    "\n",
    "mae_arbol = 24843.19  # Ingresa el MAE del árbol de regresión que usaste antes\n",
    "rmse_arbol = 37743.70\n",
    "r2_arbol = 0.7958\n",
    "\n",
    "mae_naive_bayes = 2466  # Ingresa el MAE del modelo Naive Bayes\n",
    "rmse_naive_bayes = 6168\n",
    "r2_naive_bayes = 0.6160\n",
    "\n",
    "# Comparar modelos\n",
    "resultados = pd.DataFrame({\n",
    "    \"Modelo\": [\"Regresión Lineal\", \"Árbol de Regresión\", \"Naive Bayes\", \"KNN\"],\n",
    "    \"MAE\": [mae_regresion, mae_arbol, mae_naive_bayes, mae_knn],\n",
    "    \"RMSE\": [rmse_regresion, rmse_arbol, rmse_naive_bayes, rmse_knn],\n",
    "    \"R²\": [r2_regresion, r2_arbol, r2_naive_bayes, r2_knn]\n",
    "})\n",
    "\n",
    "# Mostrar comparación\n",
    "print(\"\\n🔹 Comparación de Modelos:\")\n",
    "print(resultados.sort_values(by=\"R²\", ascending=False))\n"
   ]
  },
  {
   "cell_type": "markdown",
   "metadata": {},
   "source": [
    "# **📌 Análisis de la Comparación de Modelos**  \n",
    "\n",
    "A partir de los resultados obtenidos, aquí está el análisis de cada modelo:\n",
    "\n",
    "| **Modelo**              | **MAE**       | **RMSE**      | **R²**     | **Conclusión** |\n",
    "|-------------------------|--------------|--------------|------------|----------------|\n",
    "| **KNN**                 | **22,111.25** | **36,386.71** | **0.8274** | 📈 Mejor R², predice con más precisión. |\n",
    "| **Regresión Lineal**     | 23,102.79     | **35,375.52** | 0.8207     | 🟢 Buen rendimiento, pero KNN lo supera. |\n",
    "| **Árbol de Regresión**   | 24,843.19     | 37,743.70     | 0.7958     | 🟡 Menor precisión que KNN y regresión. |\n",
    "| **Naive Bayes**         | **2,466.00**  | **6,168.00**  | 0.6160     | ❌ R² demasiado bajo, inadecuado para regresión. |\n",
    "\n",
    "---\n",
    "\n",
    "## **📌 Conclusiones**\n",
    "\n",
    "### 1️⃣ **📊 KNN fue el mejor modelo**  \n",
    "- Tuvo el **mayor R² (0.8274)**, indicando que explica mejor la variabilidad de `SalePrice`.  \n",
    "- Su **MAE (22,111.25)** fue el más bajo, lo que indica que comete menos errores absolutos en las predicciones.  \n",
    "\n",
    "### 2️⃣ **📉 Naive Bayes no es adecuado**  \n",
    "- Un R² de **0.6160** muestra que no generaliza bien en problemas de regresión.  \n",
    "- El **MAE y RMSE son anormalmente bajos**, lo que puede indicar problemas en la implementación o una mala adaptación del modelo.  \n",
    "\n",
    "### 3️⃣ **📈 Regresión Lineal y Árbol de Decisión tienen buen desempeño, pero KNN los supera**  \n",
    "- **Regresión Lineal** tuvo un **buen RMSE (35,375.52)**, muy cercano a KNN, pero con menor capacidad de predicción.  \n",
    "- **Árbol de Regresión** quedó rezagado, con menor R² y mayor error.  \n",
    "\n",
    "---\n",
    "\n",
    "## **📌 Recomendación Final**\n",
    "✅ **KNN es el mejor modelo para predecir `SalePrice` en este caso.**  \n",
    "⚠️ **Naive Bayes no es adecuado para regresión y debe evitarse.**  \n",
    "📊 **Si el tiempo de procesamiento es un problema, Regresión Lineal sigue siendo una buena alternativa.**  \n",
    "\n",
    "---\n",
    "\n",
    "Este análisis completa la comparación de modelos. 🚀\n"
   ]
  }
 ],
 "metadata": {
  "kernelspec": {
   "display_name": "Python 3",
   "language": "python",
   "name": "python3"
  },
  "language_info": {
   "codemirror_mode": {
    "name": "ipython",
    "version": 3
   },
   "file_extension": ".py",
   "mimetype": "text/x-python",
   "name": "python",
   "nbconvert_exporter": "python",
   "pygments_lexer": "ipython3",
   "version": "3.12.0"
  }
 },
 "nbformat": 4,
 "nbformat_minor": 2
}
