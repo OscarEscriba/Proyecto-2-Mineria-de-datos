{
 "cells": [
  {
   "cell_type": "markdown",
   "metadata": {},
   "source": [
    "# Proyecto 2 entrega #3"
   ]
  },
  {
   "cell_type": "markdown",
   "metadata": {},
   "source": [
    "## Implementación del modelo de Naive Bayes"
   ]
  },
  {
   "cell_type": "code",
   "execution_count": 12,
   "metadata": {},
   "outputs": [
    {
     "name": "stdout",
     "output_type": "stream",
     "text": [
      "Precisión del modelo: 0.7637\n",
      "Matriz de confusión:\n",
      " [[ 82   3   9]\n",
      " [  0 106   4]\n",
      " [ 24  29  35]]\n",
      "Reporte de clasificación:\n",
      "               precision    recall  f1-score   support\n",
      "\n",
      "        alto       0.77      0.87      0.82        94\n",
      "        bajo       0.77      0.96      0.85       110\n",
      "       medio       0.73      0.40      0.51        88\n",
      "\n",
      "    accuracy                           0.76       292\n",
      "   macro avg       0.76      0.74      0.73       292\n",
      "weighted avg       0.76      0.76      0.74       292\n",
      "\n"
     ]
    }
   ],
   "source": [
    "import pandas as pd\n",
    "import numpy as np\n",
    "from sklearn.model_selection import train_test_split\n",
    "from sklearn.naive_bayes import GaussianNB\n",
    "from sklearn.metrics import accuracy_score, classification_report, confusion_matrix\n",
    "\n",
    "# Cargar los datos\n",
    "data = pd.read_csv('train.csv')\n",
    "\n",
    "# Convertir la variable objetivo en categorías\n",
    "num_bins = 3  # Número de categorías\n",
    "labels = ['bajo', 'medio', 'alto']\n",
    "data['SalePrice_cat'] = pd.qcut(data['SalePrice'], q=num_bins, labels=labels)\n",
    "\n",
    "# Seleccionar características y variable objetivo\n",
    "X = data.drop(['SalePrice', 'SalePrice_cat'], axis=1)\n",
    "y = data['SalePrice_cat']\n",
    "\n",
    "# Convertir variables categóricas en numéricas\n",
    "X = pd.get_dummies(X, drop_first=True)\n",
    "\n",
    "# Manejo de valores faltantes\n",
    "X.fillna(X.mean(), inplace=True)  # Rellenar valores numéricos con la media\n",
    "\n",
    "# Dividir en conjuntos de entrenamiento y prueba\n",
    "X_train, X_test, y_train, y_test = train_test_split(X, y, test_size=0.2, random_state=42)\n",
    "\n",
    "# Entrenar el modelo Naive Bayes\n",
    "nb_model = GaussianNB()\n",
    "nb_model.fit(X_train, y_train)\n",
    "\n",
    "# Realizar predicciones\n",
    "y_pred = nb_model.predict(X_test)\n",
    "\n",
    "# Evaluación del modelo\n",
    "accuracy = accuracy_score(y_test, y_pred)\n",
    "conf_matrix = confusion_matrix(y_test, y_pred)\n",
    "class_report = classification_report(y_test, y_pred)\n",
    "\n",
    "print(f'Precisión del modelo: {accuracy:.4f}')\n",
    "print('Matriz de confusión:\\n', conf_matrix)\n",
    "print('Reporte de clasificación:\\n', class_report)\n",
    "\n",
    "\n"
   ]
  },
  {
   "cell_type": "markdown",
   "metadata": {},
   "source": [
    "## Informe\n",
    "\n",
    "### Análisis del modelo\n",
    "* **Precisión Global**: 76.37% de precisión significa que el modelo claasificó correctamente alrededor del 76% de los valores conjuntos de prueba. Para un modelo de Naive Bayes, es un resultado aceptable.\n",
    "* **Matriz de confusión**: \n",
    "    * Clase **alto**: 82 predicciones correctas, 12 incorrectas\n",
    "    * Clase **media**: Buena precisión y recall alto, lo que significa que casi todos los casos reales de \"bajo\" fueron clasificados correctamente\n",
    "    * Clase **medio**: Tiene la peor rendimiento con recall de 40% indicando que el modelo tiene problemas para identificar la categoría.\n",
    "### Comparación de los modelos\n",
    "* **Modelo Regresión Lineal**: Tiene un 79.9% de precisión, tiene los coeficientes más estables.\n",
    "* **Modelo Árbol de Regresión**: Precisión de 79.58%, este siendo de produndidad 10.\n",
    "* **Modelo Naive Bayes**: Precisión de 76.37%, valor aceptable\n",
    "\n",
    "En general el modelo de regresión lineal ajustado que se hizo con anterioridad sigue siendo el mejor modelo para la predicción."
   ]
  },
  {
   "cell_type": "markdown",
   "metadata": {},
   "source": []
  }
 ],
 "metadata": {
  "kernelspec": {
   "display_name": "base",
   "language": "python",
   "name": "python3"
  },
  "language_info": {
   "codemirror_mode": {
    "name": "ipython",
    "version": 3
   },
   "file_extension": ".py",
   "mimetype": "text/x-python",
   "name": "python",
   "nbconvert_exporter": "python",
   "pygments_lexer": "ipython3",
   "version": "3.12.7"
  }
 },
 "nbformat": 4,
 "nbformat_minor": 2
}
